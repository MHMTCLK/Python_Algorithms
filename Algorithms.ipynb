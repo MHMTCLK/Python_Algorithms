{
 "cells": [
  {
   "cell_type": "markdown",
   "metadata": {},
   "source": [
    "# ALGORITHMS"
   ]
  },
  {
   "cell_type": "markdown",
   "metadata": {},
   "source": [
    "## Question-1\n",
    "\n",
    "Verilen string içerisinde açılan her parantezin, süslü parantezin veya köşeli parantezin\n",
    "kurallara uygun bir şekilde kapatma işaretinin de string içerisinde olup olmadığını kontrol\n",
    "eden python metodunu yazınız. Örn: “{[]}” => true, “{(])}” => false, “{([)]}” => false"
   ]
  },
  {
   "cell_type": "code",
   "execution_count": 1,
   "metadata": {},
   "outputs": [],
   "source": [
    "#function definition\n",
    "\n",
    "def check_parentheses_for_rule_set(string_value):\n",
    "    \n",
    "    length = len(string_value)\n",
    "    half = int(length / 2)\n",
    "    \n",
    "    if length % 2 == 0:\n",
    "        for i in string_value[0:half]:\n",
    "            if i in string_value:\n",
    "                index = string_value.find(i)\n",
    "                r_index = index + 1\n",
    "                r_index = r_index * -1\n",
    "                start = string_value[index]\n",
    "                end = string_value[r_index]\n",
    "                if ((start == '(' and end == ')') or (start == '{' and end == '}') or (start == '[' and end == ']')):\n",
    "                    return True\n",
    "                else:\n",
    "                    return False\n",
    "            else:\n",
    "                return False\n",
    "    else:\n",
    "        return False"
   ]
  },
  {
   "cell_type": "code",
   "execution_count": 2,
   "metadata": {},
   "outputs": [
    {
     "name": "stdout",
     "output_type": "stream",
     "text": [
      "Enter the value:{[()]}\n"
     ]
    }
   ],
   "source": [
    "string_value = input(\"Enter the value:\")"
   ]
  },
  {
   "cell_type": "code",
   "execution_count": 3,
   "metadata": {},
   "outputs": [
    {
     "data": {
      "text/plain": [
       "'{[()]}'"
      ]
     },
     "execution_count": 3,
     "metadata": {},
     "output_type": "execute_result"
    }
   ],
   "source": [
    "string_value"
   ]
  },
  {
   "cell_type": "code",
   "execution_count": 4,
   "metadata": {},
   "outputs": [
    {
     "data": {
      "text/plain": [
       "True"
      ]
     },
     "execution_count": 4,
     "metadata": {},
     "output_type": "execute_result"
    }
   ],
   "source": [
    "check_parentheses_for_rule_set(string_value)"
   ]
  },
  {
   "cell_type": "code",
   "execution_count": 5,
   "metadata": {},
   "outputs": [
    {
     "name": "stdout",
     "output_type": "stream",
     "text": [
      "Enter the value:(]\n"
     ]
    }
   ],
   "source": [
    "string_value = input(\"Enter the value:\")"
   ]
  },
  {
   "cell_type": "code",
   "execution_count": 6,
   "metadata": {},
   "outputs": [
    {
     "data": {
      "text/plain": [
       "'(]'"
      ]
     },
     "execution_count": 6,
     "metadata": {},
     "output_type": "execute_result"
    }
   ],
   "source": [
    "string_value"
   ]
  },
  {
   "cell_type": "code",
   "execution_count": 7,
   "metadata": {},
   "outputs": [
    {
     "data": {
      "text/plain": [
       "False"
      ]
     },
     "execution_count": 7,
     "metadata": {},
     "output_type": "execute_result"
    }
   ],
   "source": [
    "check_parentheses_for_rule_set(string_value)"
   ]
  },
  {
   "cell_type": "markdown",
   "metadata": {},
   "source": [
    "## Question 2"
   ]
  },
  {
   "cell_type": "markdown",
   "metadata": {},
   "source": [
    "Toplam iki adet yumurtanız var. 100 katlı bir apartmanın belirli bir katından sonra\n",
    "yumurtayı yere atarsanız kırılıyor. Fakat belirli bir kattan önceki katlarda atarsanız\n",
    "yumurtanız kırılmıyor ve tekrardan atabiliyorsunuz. En kötü durumda en az denemeyi\n",
    "yaparak bu katı bulmanızı sağlayan metodu yazınız."
   ]
  },
  {
   "cell_type": "code",
   "execution_count": 8,
   "metadata": {},
   "outputs": [],
   "source": [
    "#packages\n",
    "import random\n",
    "import math\n",
    "\n",
    "def find_floor(number_of_floor):\n",
    "    \n",
    "    #variables\n",
    "    find = False\n",
    "    floor = list(range(1,number_of_floor+1,1))\n",
    "    target_floor = random.choice(floor)\n",
    "    \n",
    "    egg_one = int(len(floor)/2)\n",
    "    egg_two = 0\n",
    "    max_floor = max(floor)\n",
    "    min_floor = min(floor)\n",
    "    diff_1 = 0\n",
    "    diff_2 = 0\n",
    "    diff_3 = 0\n",
    "    diff_4 = 0\n",
    "\n",
    "    #number of trials\n",
    "    count = 0                 #bingo in first time\n",
    "    count_small = 0           #if first estimate smaller\n",
    "    count_big = 0             #if first estimate bigger\n",
    "    repeat_count_big = 0      #try again count after two eggs\n",
    "    repeat_count_small = 0    #try again count after tow eggs\n",
    "    \n",
    "    #min path algorithm\n",
    "    if egg_one == target_floor:\n",
    "        count += 1\n",
    "        find = True\n",
    "        pass\n",
    "    else:\n",
    "        while find == False:\n",
    "            if egg_one < target_floor:\n",
    "                repeat_count_small += 1\n",
    "                \n",
    "                while egg_one < target_floor:\n",
    "                    egg_one += ((max_floor - egg_one)/2)\n",
    "                    count_small += 1\n",
    "                \n",
    "                if abs(egg_one-target_floor) < 1:\n",
    "                    find = True\n",
    "                    diff_1= abs(egg_one-target_floor)\n",
    "                    pass\n",
    "                \n",
    "                else:\n",
    "                    min_floor = (egg_one * 2 - max_floor)\n",
    "                    max_floor = egg_one\n",
    "                    egg_two = ((max_floor + min_floor) / 2)\n",
    "                    \n",
    "                    while egg_two < target_floor:\n",
    "                        egg_two += ((max_floor - egg_two)/2)\n",
    "                        count_small += 1\n",
    "                    \n",
    "                    if abs(egg_two-target_floor) < 1:\n",
    "                        find = True\n",
    "                        diff_2 = abs(egg_two-target_floor)\n",
    "                        pass\n",
    "                    \n",
    "                    else:\n",
    "                        egg_one = egg_two\n",
    "                        find = False\n",
    "            else:\n",
    "                repeat_count_big += 1\n",
    "                    \n",
    "                while egg_one > target_floor:\n",
    "                    egg_one -= ((max_floor - egg_one)/2)\n",
    "                    count_big += 1\n",
    "                \n",
    "                if abs(egg_one-target_floor) < 1:\n",
    "                    find = True\n",
    "                    diff_3 = abs(egg_one-target_floor)\n",
    "                    pass\n",
    "                \n",
    "                else:\n",
    "                    min_floor = egg_one\n",
    "                    max_floor = ((egg_one + max_floor)/2)\n",
    "                    egg_two = ((max_floor + min_floor) / 2)\n",
    "                    \n",
    "                    while egg_two > target_floor:\n",
    "                        egg_two -= ((max_floor - egg_two)/2)\n",
    "                        count_big += 1\n",
    "                    \n",
    "                    if abs(egg_two-target_floor) < 1:\n",
    "                        find = True\n",
    "                        diff_4= abs(egg_two-target_floor)\n",
    "                        pass\n",
    "                    \n",
    "                    else:\n",
    "                        egg_one = egg_two\n",
    "                        find = False\n",
    "                \n",
    "            \n",
    "    print('floor        : ', floor)\n",
    "    print('******************************')\n",
    "    print('')\n",
    "    \n",
    "    print('target_floor : ', target_floor)\n",
    "    print('find         : ', find)\n",
    "    print('******************************')\n",
    "    print('')\n",
    "    \n",
    "    print('max_floor : ', max_floor)\n",
    "    print('min_floor : ', min_floor)\n",
    "    print('******************************')\n",
    "    print('')\n",
    "    \n",
    "    print('diff_1 : ', diff_1)\n",
    "    print('diff_2 : ', diff_2)\n",
    "    print('diff_1 : ', diff_3)\n",
    "    print('diff_2 : ', diff_4)\n",
    "    print('******************************')\n",
    "    print('')\n",
    "    \n",
    "    print('egg_one : ', egg_one)\n",
    "    print('egg_two : ', egg_two)\n",
    "    print('******************************')\n",
    "    print('')\n",
    "    \n",
    "    print('count       : ', count)\n",
    "    print('count_small : ', count_small)\n",
    "    print('count_big   : ', count_big)\n",
    "    print('******************************')\n",
    "    print('')\n",
    "    \n",
    "    print('repeat_count_small : ', repeat_count_small)\n",
    "    print('repeat_count_big   : ', repeat_count_big)\n",
    "    print('******************************')\n",
    "    print('')\n",
    "    \n",
    "    return find\n",
    "    "
   ]
  },
  {
   "cell_type": "code",
   "execution_count": 9,
   "metadata": {},
   "outputs": [
    {
     "name": "stdout",
     "output_type": "stream",
     "text": [
      "floor        :  [1, 2, 3, 4, 5, 6, 7, 8, 9, 10, 11, 12, 13, 14, 15, 16, 17, 18, 19, 20, 21, 22, 23, 24, 25, 26, 27, 28, 29, 30, 31, 32, 33, 34, 35, 36, 37, 38, 39, 40, 41, 42, 43, 44, 45, 46, 47, 48, 49, 50, 51, 52, 53, 54, 55, 56, 57, 58, 59, 60, 61, 62, 63, 64, 65, 66, 67, 68, 69, 70, 71, 72, 73, 74, 75, 76, 77, 78, 79, 80, 81, 82, 83, 84, 85, 86, 87, 88, 89, 90, 91, 92, 93, 94, 95, 96, 97, 98, 99, 100]\n",
      "******************************\n",
      "\n",
      "target_floor :  49\n",
      "find         :  True\n",
      "******************************\n",
      "\n",
      "max_floor :  50.48828125\n",
      "min_floor :  47.8515625\n",
      "******************************\n",
      "\n",
      "diff_1 :  0\n",
      "diff_2 :  0\n",
      "diff_1 :  0\n",
      "diff_2 :  0.4892578125\n",
      "******************************\n",
      "\n",
      "egg_one :  47.8515625\n",
      "egg_two :  48.5107421875\n",
      "******************************\n",
      "\n",
      "count       :  0\n",
      "count_small :  2\n",
      "count_big   :  4\n",
      "******************************\n",
      "\n",
      "repeat_count_small :  1\n",
      "repeat_count_big   :  2\n",
      "******************************\n",
      "\n"
     ]
    },
    {
     "data": {
      "text/plain": [
       "True"
      ]
     },
     "execution_count": 9,
     "metadata": {},
     "output_type": "execute_result"
    }
   ],
   "source": [
    "y = find_floor(100)\n",
    "y"
   ]
  },
  {
   "cell_type": "markdown",
   "metadata": {},
   "source": [
    "## BONUS QUESTION"
   ]
  },
  {
   "cell_type": "markdown",
   "metadata": {},
   "source": [
    "Sınırsız miktarda havuç bulunan bir depoya girdiğinizi hayal edin. Bu havuçların birkaç kategoriye ayrıldığını düşünün. Her kategoride bulunan havuçların belirli ağırlıkları ve fiyatları var. Sizin de yanınızda bir adet çanta bulunmakta ve sadece çantanın kapasitesi kadar havuç alabilirsiniz. En değerli havuçları alabilmenizi sağlayan bir metodu nasıl geliştirirsiniz. Metod dışarıdan verilecek parametrelere göre çalışabilmelidir.\n",
    "\n",
    "Örneğin:\n",
    "carrotTypes = [{kg: 5, price: 100}, {kg: 7, price: 150}, {kg: 3, price: 70}]\n",
    "capacity = 36 //kg\n",
    "findBestBag(carrotTypes, capacity)"
   ]
  }
 ],
 "metadata": {
  "kernelspec": {
   "display_name": "Python 3",
   "language": "python",
   "name": "python3"
  },
  "language_info": {
   "codemirror_mode": {
    "name": "ipython",
    "version": 3
   },
   "file_extension": ".py",
   "mimetype": "text/x-python",
   "name": "python",
   "nbconvert_exporter": "python",
   "pygments_lexer": "ipython3",
   "version": "3.7.1"
  }
 },
 "nbformat": 4,
 "nbformat_minor": 2
}
